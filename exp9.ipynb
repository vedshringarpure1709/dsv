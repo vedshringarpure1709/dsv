{
 "cells": [
  {
   "cell_type": "code",
   "execution_count": 1,
   "id": "62e25875",
   "metadata": {},
   "outputs": [],
   "source": [
    "def activation(out, threshold):\n",
    "    if out >= threshold:\n",
    "        return 1\n",
    "    else:\n",
    "        return 0"
   ]
  },
  {
   "cell_type": "code",
   "execution_count": 7,
   "id": "4e06b9fb",
   "metadata": {},
   "outputs": [
    {
     "name": "stdout",
     "output_type": "stream",
     "text": [
      "Perceptron training:\n",
      "Input: 0 , 0\n",
      "Weights: 0.7 , 0.8\n",
      "Summation: 0.0 , Threshold: 1\n",
      "Actual Output: 0 , Predicted Value: 0\n",
      "Input: 0 , 1\n",
      "Weights: 0.7 , 0.8\n",
      "Summation: 0.8 , Threshold: 1\n",
      "Actual Output: 0 , Predicted Value: 0\n",
      "Input: 1 , 0\n",
      "Weights: 0.7 , 0.8\n",
      "Summation: 0.7 , Threshold: 1\n",
      "Actual Output: 0 , Predicted Value: 0\n",
      "Input: 1 , 1\n",
      "Weights: 0.7 , 0.8\n",
      "Summation: 1.5 , Threshold: 1\n",
      "Actual Output: 1 , Predicted Value: 1\n",
      "Final output for input [1, 0] : 0\n"
     ]
    }
   ],
   "source": [
    "def perceptron(and_input):\n",
    "    a = [0, 0, 1, 1]\n",
    "    b = [0, 1, 0, 1]\n",
    "    y = [0, 0, 0, 1]\n",
    "    w = [0.7, 0.8]\n",
    "    threshold = 1\n",
    "    learning_rate = 0.3\n",
    "    i = 0\n",
    "    \n",
    "    print(\"Perceptron training:\")\n",
    "    \n",
    "    while i < 4:\n",
    "        summation = a[i] * w[0] + b[i] * w[1]\n",
    "        o = activation(summation, threshold)\n",
    "        \n",
    "        print(\"Input:\", a[i], \",\", b[i])\n",
    "        print(\"Weights:\", w[0], \",\", w[1])\n",
    "        print(\"Summation:\", summation, \", Threshold:\", threshold)\n",
    "        print(\"Actual Output:\", y[i], \", Predicted Value:\", o)\n",
    "        \n",
    "        if o != y[i]:\n",
    "            w[0] = w[0] + learning_rate * (y[i] - o) * a[i]\n",
    "            w[1] = w[1] + learning_rate * (y[i] - o) * b[i]\n",
    "            print(\"Updated Weights:\", w[0], \",\", w[1])\n",
    "        \n",
    "        i += 1\n",
    "    \n",
    "    summation = and_input[0] * w[0] + and_input[1] * w[1]\n",
    "    return activation(summation, threshold)\n",
    "\n",
    "and_input = [1, 0]\n",
    "output = perceptron(and_input)\n",
    "print(\"Final output for input\", and_input, \":\", output)"
   ]
  },
  {
   "cell_type": "code",
   "execution_count": null,
   "id": "993565d5",
   "metadata": {},
   "outputs": [],
   "source": []
  }
 ],
 "metadata": {
  "kernelspec": {
   "display_name": "Python 3 (ipykernel)",
   "language": "python",
   "name": "python3"
  },
  "language_info": {
   "codemirror_mode": {
    "name": "ipython",
    "version": 3
   },
   "file_extension": ".py",
   "mimetype": "text/x-python",
   "name": "python",
   "nbconvert_exporter": "python",
   "pygments_lexer": "ipython3",
   "version": "3.11.5"
  }
 },
 "nbformat": 4,
 "nbformat_minor": 5
}
